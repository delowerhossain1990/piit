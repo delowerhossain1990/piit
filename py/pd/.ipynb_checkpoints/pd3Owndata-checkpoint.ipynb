{
 "cells": [
  {
   "cell_type": "code",
   "execution_count": 1,
   "id": "6e8ce03a-0d00-4c69-896e-354d6e02b2c1",
   "metadata": {},
   "outputs": [],
   "source": [
    "import numpy as np\n",
    "import pandas as pd\n",
    "import random"
   ]
  },
  {
   "cell_type": "code",
   "execution_count": null,
   "id": "ea7a927f-1a0e-43cb-af10-bcbe3e89b5e3",
   "metadata": {},
   "outputs": [],
   "source": [
    "# structure gets change by use of brackets and the combination\n",
    "- list []\n",
    "- tuple ()\n",
    "- set {}\n",
    "- "
   ]
  },
  {
   "cell_type": "code",
   "execution_count": 8,
   "id": "abb987f7-7346-41f2-b497-a4f4cbc72357",
   "metadata": {},
   "outputs": [
    {
     "name": "stdout",
     "output_type": "stream",
     "text": [
      "<class 'list'> [1, 2, 3, 4, 5, 6, 7, 8, 9, 10, 11, 12, 13, 14, 15, 16, 17, 18, 19, 20]\n"
     ]
    }
   ],
   "source": [
    "rollno = list(range(1, 21))\n",
    "print(type(rollno), rollno)"
   ]
  },
  {
   "cell_type": "code",
   "execution_count": 10,
   "id": "2b1709fb-3dbc-4a9d-aaa4-a14e15845f97",
   "metadata": {},
   "outputs": [
    {
     "name": "stdout",
     "output_type": "stream",
     "text": [
      "<class 'tuple'> ['Alice', 'Bob', 'Charlee', 'Diana', 'Eithan', 'Fiona', 'George', 'Hannah', 'Ian', 'Jasmin', 'kevin', 'Lily', 'Mike', 'Nina', 'Oscar', 'Priya', 'Quinn', 'Raj', 'Sophia', 'Tom']\n"
     ]
    }
   ],
   "source": [
    "sname = ( \"Alice\", \"Bob\", \"Charlee\", \"Diana\", \"Eithan\", \"Fiona\", \"George\", \"Hannah\", \"Ian\", \"Jasmin\", \"kevin\", \"Lily\", \"Mike\", \"Nina\", \"Oscar\", \"Priya\", \"Quinn\", \"Raj\", \"Sophia\", \"Tom\")\n",
    "print(type(sname), list(sname))"
   ]
  },
  {
   "cell_type": "code",
   "execution_count": 29,
   "id": "1b110e23-34c1-41b1-8f87-d0e4bbb13005",
   "metadata": {},
   "outputs": [
    {
     "name": "stdout",
     "output_type": "stream",
     "text": [
      "['Female', 'Female', 'Female', 'Female', 'Female', 'Male', 'Male', 'Female', 'Male', 'Male', 'Female', 'Male', 'Female', 'Male', 'Female', 'Male', 'Female', 'Female', 'Female', 'Female']\n"
     ]
    }
   ],
   "source": [
    "genders_set = {\"Male\", \"Female\", \"Male\", \"Female\"}\n",
    "gender = [random.choice(list(genders_set)) for _ in rollno]\n",
    "print(list(gender))"
   ]
  },
  {
   "cell_type": "code",
   "execution_count": 18,
   "id": "fb25135f-9eb3-4321-b66f-5072e3251281",
   "metadata": {},
   "outputs": [
    {
     "data": {
      "text/plain": [
       "12"
      ]
     },
     "execution_count": 18,
     "metadata": {},
     "output_type": "execute_result"
    }
   ],
   "source": [
    "gender.count('Male')"
   ]
  },
  {
   "cell_type": "code",
   "execution_count": 30,
   "id": "ba655118-475f-44ca-a703-c1f2fea19254",
   "metadata": {},
   "outputs": [
    {
     "name": "stdout",
     "output_type": "stream",
     "text": [
      "Males - 7 Females - 13\n"
     ]
    }
   ],
   "source": [
    "print('Males -', gender.count('Male'), 'Females -', gender.count('Female'))"
   ]
  },
  {
   "cell_type": "code",
   "execution_count": 35,
   "id": "c88cfed4-3a31-488a-920e-dbea0dc3d780",
   "metadata": {},
   "outputs": [
    {
     "name": "stdout",
     "output_type": "stream",
     "text": [
      "['DS', 'CS', 'IT', 'DS', 'IT', 'IT', 'IT', 'CS', 'IT', 'IT', 'AI', 'CS', 'CS', 'DS', 'DS', 'DS', 'IT', 'DS', 'DS', 'CS']\n"
     ]
    }
   ],
   "source": [
    "courses_dict = {1:\"CS\", 2: \"IT\", 3: \"AI\", 4: \"DS\"}\n",
    "course = [courses_dict[random.randint(1, 4)] for _ in rollno]\n",
    "print(list(course))"
   ]
  },
  {
   "cell_type": "code",
   "execution_count": 12,
   "id": "baa8e276-3256-49dc-9f94-5335a404ca3d",
   "metadata": {},
   "outputs": [
    {
     "data": {
      "text/plain": [
       "array([81.32174298, 73.56709112, 68.80015902, 70.1090599 , 72.38135156,\n",
       "       71.42108251, 57.76527292, 71.04980961, 72.50064474, 75.90414184,\n",
       "       73.21051495, 76.46192853, 71.04627411, 84.83228866, 53.90835552,\n",
       "       81.32633036, 60.77268601, 60.71544151, 71.57755808, 71.81319109])"
      ]
     },
     "execution_count": 12,
     "metadata": {},
     "output_type": "execute_result"
    }
   ],
   "source": [
    "np.random.normal(70, 10, len(rollno))"
   ]
  },
  {
   "cell_type": "code",
   "execution_count": 13,
   "id": "05ba8281-d0f4-42d3-874e-1eb4acc3e9a3",
   "metadata": {},
   "outputs": [
    {
     "data": {
      "text/plain": [
       "array([64.9, 85.5, 71.6, 58.4, 71.1, 73. , 73.7, 81. , 68.6, 63.4, 60.4,\n",
       "       70.7, 53.7, 69.4, 67. , 81.8, 52.7, 60.4, 51.1, 61.8])"
      ]
     },
     "execution_count": 13,
     "metadata": {},
     "output_type": "execute_result"
    }
   ],
   "source": [
    "score = np.clip(np.random.normal(70, 10, len(rollno)), 40, 100,). round(1)\n",
    "score"
   ]
  },
  {
   "cell_type": "code",
   "execution_count": 14,
   "id": "3944ae71-1e70-49fd-8ad3-6d7237187bf0",
   "metadata": {},
   "outputs": [
    {
     "data": {
      "text/plain": [
       "array([23, 19, 19, 22, 20, 21, 24, 20, 23, 18, 22, 21, 23, 18, 23, 22, 21,\n",
       "       24, 20, 23])"
      ]
     },
     "execution_count": 14,
     "metadata": {},
     "output_type": "execute_result"
    }
   ],
   "source": [
    "age = np.random.randint(18, 25, size=len(rollno))\n",
    "age"
   ]
  },
  {
   "cell_type": "code",
   "execution_count": 16,
   "id": "1f530086-f80e-4926-bf04-b08ac5c4abdb",
   "metadata": {},
   "outputs": [
    {
     "data": {
      "text/plain": [
       "array([67.82537996, 75.93400871, 83.88445659, 69.60934226, 76.9403177 ,\n",
       "       74.39832716, 58.85992414, 82.91252686, 74.14163701, 89.67687703,\n",
       "       82.75412459, 67.40126871, 60.11486422, 45.10285138, 56.30496617,\n",
       "       73.9661642 , 74.44800409, 81.01722483, 87.66413587, 66.36795711])"
      ]
     },
     "execution_count": 16,
     "metadata": {},
     "output_type": "execute_result"
    }
   ],
   "source": [
    "np.random.normal(70, 10, len(rollno))"
   ]
  },
  {
   "cell_type": "code",
   "execution_count": 27,
   "id": "3b9dc090-b05d-4672-ab8b-69d14281c5b1",
   "metadata": {},
   "outputs": [
    {
     "name": "stdout",
     "output_type": "stream",
     "text": [
      "[54.18549691 48.42003192 76.95237228 87.03879232 76.31369747 80.35152232\n",
      " 62.99632834 72.91893436 76.2514186  68.69196061 60.75125635 55.99638313\n",
      " 53.06692341 56.67155915 92.34277484 75.25180503 82.44300207 45.05353783\n",
      " 82.06542093 61.14007261] ::: 68.44516452354983 13.276866630898422\n",
      "[54.18549691 50.         76.95237228 87.03879232 76.31369747 80.35152232\n",
      " 62.99632834 72.91893436 76.2514186  68.69196061 60.75125635 55.99638313\n",
      " 53.06692341 56.67155915 92.34277484 75.25180503 82.44300207 50.\n",
      " 82.06542093 61.14007261]\n",
      "[54.2 50.  77.  87.  76.3 80.4 63.  72.9 76.3 68.7 60.8 56.  53.1 56.7\n",
      " 92.3 75.3 82.4 50.  82.1 61.1]\n"
     ]
    }
   ],
   "source": [
    "score = np.random.normal(70, 15, len(rollno))\n",
    "print(score, ':::', np.mean(score), np.std(score))\n",
    "score = np.clip(score, 50, 95)\n",
    "print(score)\n",
    "score = score.round(1)\n",
    "print(score)"
   ]
  },
  {
   "cell_type": "code",
   "execution_count": 23,
   "id": "9253cf6d-1077-4db6-bff9-fc1b8625ca8f",
   "metadata": {},
   "outputs": [
    {
     "name": "stdout",
     "output_type": "stream",
     "text": [
      "[0 1 2 3 4 5 6 7 8 9]\n"
     ]
    },
    {
     "data": {
      "text/plain": [
       "array([2, 2, 2, 3, 4, 5, 6, 6, 6, 6])"
      ]
     },
     "execution_count": 23,
     "metadata": {},
     "output_type": "execute_result"
    }
   ],
   "source": [
    "a = np.arange(10)\n",
    "print(a)\n",
    "np.clip(a, 2,6)"
   ]
  },
  {
   "cell_type": "code",
   "execution_count": 32,
   "id": "2d278d0e-04be-450f-866d-4831393a0370",
   "metadata": {},
   "outputs": [
    {
     "ename": "NameError",
     "evalue": "name 'sname' is not defined",
     "output_type": "error",
     "traceback": [
      "\u001b[0;31m---------------------------------------------------------------------------\u001b[0m",
      "\u001b[0;31mNameError\u001b[0m                                 Traceback (most recent call last)",
      "Cell \u001b[0;32mIn[32], line 1\u001b[0m\n\u001b[0;32m----> 1\u001b[0m \u001b[38;5;28mprint\u001b[39m(rollno, \u001b[38;5;124m'\u001b[39m\u001b[38;5;130;01m\\n\u001b[39;00m\u001b[38;5;124m'\u001b[39m, sname, \u001b[38;5;124m'\u001b[39m\u001b[38;5;130;01m\\n\u001b[39;00m\u001b[38;5;124m'\u001b[39m, gender, \u001b[38;5;124m'\u001b[39m\u001b[38;5;130;01m\\n\u001b[39;00m\u001b[38;5;124m'\u001b[39m, course, \u001b[38;5;124m'\u001b[39m\u001b[38;5;130;01m\\n\u001b[39;00m\u001b[38;5;124m'\u001b[39m, score, \u001b[38;5;124m'\u001b[39m\u001b[38;5;130;01m\\n\u001b[39;00m\u001b[38;5;124m'\u001b[39m, age)\n",
      "\u001b[0;31mNameError\u001b[0m: name 'sname' is not defined"
     ]
    }
   ],
   "source": [
    "print(rollno, '\\n', sname, '\\n', gender, '\\n', course, '\\n', score, '\\n', age)"
   ]
  },
  {
   "cell_type": "markdown",
   "id": "a997509f-964d-4378-af51-6bf4f5b3007c",
   "metadata": {},
   "source": [
    "# Step - 2: Data Fram\n",
    "- rows and columns\n",
    "- Columns - variable names, Rows-data for each studen\n",
    "- join Columns to Data Frame\n",
    "- 20 students data"
   ]
  },
  {
   "cell_type": "code",
   "execution_count": 33,
   "id": "de891a1a-90dc-4be2-92c2-9cbe056bafbb",
   "metadata": {},
   "outputs": [
    {
     "ename": "NameError",
     "evalue": "name 'sname' is not defined",
     "output_type": "error",
     "traceback": [
      "\u001b[0;31m---------------------------------------------------------------------------\u001b[0m",
      "\u001b[0;31mNameError\u001b[0m                                 Traceback (most recent call last)",
      "Cell \u001b[0;32mIn[33], line 1\u001b[0m\n\u001b[0;32m----> 1\u001b[0m df \u001b[38;5;241m=\u001b[39m pd\u001b[38;5;241m.\u001b[39mDataFrame({   \u001b[38;5;124m\"\u001b[39m\u001b[38;5;124mrollno\u001b[39m\u001b[38;5;124m\"\u001b[39m: rollno,  \u001b[38;5;124m\"\u001b[39m\u001b[38;5;124msname\u001b[39m\u001b[38;5;124m\"\u001b[39m: sname, \u001b[38;5;124m\"\u001b[39m\u001b[38;5;124mgender\u001b[39m\u001b[38;5;124m\"\u001b[39m: gender, \u001b[38;5;124m\"\u001b[39m\u001b[38;5;124mcourse\u001b[39m\u001b[38;5;124m\"\u001b[39m: course, \u001b[38;5;124m\"\u001b[39m\u001b[38;5;124mscore\u001b[39m\u001b[38;5;124m\"\u001b[39m: score, \u001b[38;5;124m\"\u001b[39m\u001b[38;5;124mage\u001b[39m\u001b[38;5;124m\"\u001b[39m: age})\n\u001b[1;32m      2\u001b[0m df\n",
      "\u001b[0;31mNameError\u001b[0m: name 'sname' is not defined"
     ]
    }
   ],
   "source": [
    "df = pd.DataFrame({   \"rollno\": rollno,  \"sname\": sname, \"gender\": gender, \"course\": course, \"score\": score, \"age\": age})\n",
    "df"
   ]
  },
  {
   "cell_type": "code",
   "execution_count": null,
   "id": "dfe936eb-4678-4d5a-a99e-1a97aed0d1f2",
   "metadata": {},
   "outputs": [],
   "source": []
  }
 ],
 "metadata": {
  "kernelspec": {
   "display_name": "Python 3 (ipykernel)",
   "language": "python",
   "name": "python3"
  },
  "language_info": {
   "codemirror_mode": {
    "name": "ipython",
    "version": 3
   },
   "file_extension": ".py",
   "mimetype": "text/x-python",
   "name": "python",
   "nbconvert_exporter": "python",
   "pygments_lexer": "ipython3",
   "version": "3.13.5"
  }
 },
 "nbformat": 4,
 "nbformat_minor": 5
}
