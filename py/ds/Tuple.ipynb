{
 "cells": [
  {
   "cell_type": "code",
   "execution_count": 1,
   "id": "effd7273-8d5f-44ff-a914-93743adef28f",
   "metadata": {},
   "outputs": [],
   "source": [
    "fruits=(\"apple\",\"banana\",\"cherry\")"
   ]
  },
  {
   "cell_type": "code",
   "execution_count": 2,
   "id": "a4dae616-e915-43d7-9496-eb7f0b480c4d",
   "metadata": {},
   "outputs": [
    {
     "data": {
      "text/plain": [
       "('apple', 'banana', 'cherry')"
      ]
     },
     "execution_count": 2,
     "metadata": {},
     "output_type": "execute_result"
    }
   ],
   "source": [
    "fruits"
   ]
  },
  {
   "cell_type": "code",
   "execution_count": 3,
   "id": "074d02cb-ebc5-4eef-a75d-d5fdb790652f",
   "metadata": {},
   "outputs": [],
   "source": [
    "mixed_tuple=(\"apple\",\"banana\",\"cherry\",1,2,3,5.7)"
   ]
  },
  {
   "cell_type": "code",
   "execution_count": 4,
   "id": "b772122d-54aa-4431-abe2-d06c3d1f0d95",
   "metadata": {},
   "outputs": [
    {
     "data": {
      "text/plain": [
       "('apple', 'banana', 'cherry', 1, 2, 3, 5.7)"
      ]
     },
     "execution_count": 4,
     "metadata": {},
     "output_type": "execute_result"
    }
   ],
   "source": [
    "mixed_tuple"
   ]
  },
  {
   "cell_type": "code",
   "execution_count": 5,
   "id": "499ce924-ee82-49a9-9b62-33a53427cda7",
   "metadata": {},
   "outputs": [
    {
     "data": {
      "text/plain": [
       "3"
      ]
     },
     "execution_count": 5,
     "metadata": {},
     "output_type": "execute_result"
    }
   ],
   "source": [
    "mixed_tuple[5]"
   ]
  },
  {
   "cell_type": "code",
   "execution_count": 6,
   "id": "61c91f3d-fe90-46c7-8630-faa791472d94",
   "metadata": {},
   "outputs": [
    {
     "data": {
      "text/plain": [
       "'cherry'"
      ]
     },
     "execution_count": 6,
     "metadata": {},
     "output_type": "execute_result"
    }
   ],
   "source": [
    "mixed_tuple[2]"
   ]
  },
  {
   "cell_type": "code",
   "execution_count": 11,
   "id": "57a2a16d-0f9d-47c6-bc23-7a83b606e9a4",
   "metadata": {},
   "outputs": [
    {
     "name": "stdout",
     "output_type": "stream",
     "text": [
      "['count', 'index']\n"
     ]
    }
   ],
   "source": [
    "methods = [method for method in dir(tuple) if callable(getattr(tuple, method)) and not method.startswith('__')]\n",
    "print(methods)"
   ]
  },
  {
   "cell_type": "code",
   "execution_count": 12,
   "id": "1489fe55-97c0-4019-9a5b-84f711f7bfd4",
   "metadata": {},
   "outputs": [
    {
     "data": {
      "text/plain": [
       "1"
      ]
     },
     "execution_count": 12,
     "metadata": {},
     "output_type": "execute_result"
    }
   ],
   "source": [
    "mixed_tuple.count(2)"
   ]
  },
  {
   "cell_type": "code",
   "execution_count": 13,
   "id": "15ac14c1-c922-4da7-b2d2-99712c3ce3f3",
   "metadata": {},
   "outputs": [
    {
     "data": {
      "text/plain": [
       "4"
      ]
     },
     "execution_count": 13,
     "metadata": {},
     "output_type": "execute_result"
    }
   ],
   "source": [
    "mixed_tuple.index(2,0,6)"
   ]
  },
  {
   "cell_type": "code",
   "execution_count": 19,
   "id": "04be2364-790a-49df-8393-6e8bb8e1b671",
   "metadata": {},
   "outputs": [
    {
     "ename": "NameError",
     "evalue": "name 'mixed' is not defined",
     "output_type": "error",
     "traceback": [
      "\u001b[0;31m---------------------------------------------------------------------------\u001b[0m",
      "\u001b[0;31mNameError\u001b[0m                                 Traceback (most recent call last)",
      "Cell \u001b[0;32mIn[19], line 1\u001b[0m\n\u001b[0;32m----> 1\u001b[0m \u001b[38;5;28mlen\u001b[39m(mixed\u001b[38;5;241m-\u001b[39m\u001b[38;5;28mtuple\u001b[39m)\n",
      "\u001b[0;31mNameError\u001b[0m: name 'mixed' is not defined"
     ]
    }
   ],
   "source": [
    "len(mixed-tuple)"
   ]
  },
  {
   "cell_type": "code",
   "execution_count": 15,
   "id": "3ae82b26-95b5-4e0d-8191-55fbf102291e",
   "metadata": {},
   "outputs": [],
   "source": [
    "x=(0,1,2,3,4,5,6,7,8,9,5,6,7,8,9)"
   ]
  },
  {
   "cell_type": "code",
   "execution_count": 16,
   "id": "4eb7b335-a3d1-47eb-a32d-d6f4c7dd67c2",
   "metadata": {},
   "outputs": [
    {
     "data": {
      "text/plain": [
       "9"
      ]
     },
     "execution_count": 16,
     "metadata": {},
     "output_type": "execute_result"
    }
   ],
   "source": [
    "max(x)"
   ]
  },
  {
   "cell_type": "code",
   "execution_count": 17,
   "id": "6374e1c8-2637-47e1-9006-7669d8bfb609",
   "metadata": {},
   "outputs": [
    {
     "data": {
      "text/plain": [
       "0"
      ]
     },
     "execution_count": 17,
     "metadata": {},
     "output_type": "execute_result"
    }
   ],
   "source": [
    "min(x)"
   ]
  },
  {
   "cell_type": "code",
   "execution_count": 18,
   "id": "e0be1b61-edf8-439c-8e43-ecb2b23d4a55",
   "metadata": {},
   "outputs": [
    {
     "data": {
      "text/plain": [
       "2"
      ]
     },
     "execution_count": 18,
     "metadata": {},
     "output_type": "execute_result"
    }
   ],
   "source": [
    "x.count(5)"
   ]
  },
  {
   "cell_type": "code",
   "execution_count": null,
   "id": "121c02bf-61ca-4110-856d-f1df1171a7f6",
   "metadata": {},
   "outputs": [],
   "source": []
  }
 ],
 "metadata": {
  "kernelspec": {
   "display_name": "Python 3 (ipykernel)",
   "language": "python",
   "name": "python3"
  },
  "language_info": {
   "codemirror_mode": {
    "name": "ipython",
    "version": 3
   },
   "file_extension": ".py",
   "mimetype": "text/x-python",
   "name": "python",
   "nbconvert_exporter": "python",
   "pygments_lexer": "ipython3",
   "version": "3.13.5"
  }
 },
 "nbformat": 4,
 "nbformat_minor": 5
}
