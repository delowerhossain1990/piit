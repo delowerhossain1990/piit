{
 "cells": [
  {
   "cell_type": "code",
   "execution_count": 3,
   "id": "6e109c93-0df3-433b-be01-6f1150b84565",
   "metadata": {},
   "outputs": [],
   "source": [
    "student= {\n",
    "    \"name\":\"Delower\",\n",
    "    \"age\":35,\n",
    "    \"major\":\"Information Technology\"\n",
    "}\n"
   ]
  },
  {
   "cell_type": "code",
   "execution_count": 4,
   "id": "83b0d12b-a81d-4675-9121-9d3b705e18e0",
   "metadata": {},
   "outputs": [
    {
     "data": {
      "text/plain": [
       "{'name': 'Delower', 'age': 35, 'major': 'Information Technology'}"
      ]
     },
     "execution_count": 4,
     "metadata": {},
     "output_type": "execute_result"
    }
   ],
   "source": [
    "student"
   ]
  },
  {
   "cell_type": "code",
   "execution_count": 6,
   "id": "07e20e39-b72f-4320-b421-cf982d677c4d",
   "metadata": {},
   "outputs": [
    {
     "name": "stdout",
     "output_type": "stream",
     "text": [
      "Delower\n"
     ]
    }
   ],
   "source": [
    "print(student[\"name\"])"
   ]
  },
  {
   "cell_type": "code",
   "execution_count": 7,
   "id": "435dc3c4-e9c0-4048-8ab6-645883a6ee3a",
   "metadata": {},
   "outputs": [
    {
     "name": "stdout",
     "output_type": "stream",
     "text": [
      "35\n"
     ]
    }
   ],
   "source": [
    "print(student[\"age\"])"
   ]
  },
  {
   "cell_type": "code",
   "execution_count": 10,
   "id": "0e5d0ace-8ae6-46c4-8f94-bd396a7c0558",
   "metadata": {},
   "outputs": [],
   "source": [
    "student[\"gpa\"]=4.50"
   ]
  },
  {
   "cell_type": "code",
   "execution_count": 11,
   "id": "c1f427e7-37d2-4653-9b95-92dde62c1fee",
   "metadata": {},
   "outputs": [
    {
     "data": {
      "text/plain": [
       "{'name': 'Delower', 'age': 35, 'major': 'Information Technology', 'gpa': 4.5}"
      ]
     },
     "execution_count": 11,
     "metadata": {},
     "output_type": "execute_result"
    }
   ],
   "source": [
    "student"
   ]
  },
  {
   "cell_type": "code",
   "execution_count": 12,
   "id": "805b69bd-560e-42af-b836-e20b81653511",
   "metadata": {},
   "outputs": [],
   "source": [
    "student[\"age\"]=20"
   ]
  },
  {
   "cell_type": "code",
   "execution_count": 13,
   "id": "9cf04d16-9503-48ce-9b8f-08dedcc06d3b",
   "metadata": {},
   "outputs": [
    {
     "data": {
      "text/plain": [
       "{'name': 'Delower', 'age': 20, 'major': 'Information Technology', 'gpa': 4.5}"
      ]
     },
     "execution_count": 13,
     "metadata": {},
     "output_type": "execute_result"
    }
   ],
   "source": [
    "student"
   ]
  },
  {
   "cell_type": "code",
   "execution_count": 14,
   "id": "cbf4a999-3f70-4524-9ee4-9be107cffbac",
   "metadata": {},
   "outputs": [
    {
     "data": {
      "text/plain": [
       "dict_keys(['name', 'age', 'major', 'gpa'])"
      ]
     },
     "execution_count": 14,
     "metadata": {},
     "output_type": "execute_result"
    }
   ],
   "source": [
    "student.keys()"
   ]
  },
  {
   "cell_type": "code",
   "execution_count": 15,
   "id": "97ec63fb-4372-4b21-8e5f-1f28ebeddcd2",
   "metadata": {},
   "outputs": [
    {
     "data": {
      "text/plain": [
       "dict_values(['Delower', 20, 'Information Technology', 4.5])"
      ]
     },
     "execution_count": 15,
     "metadata": {},
     "output_type": "execute_result"
    }
   ],
   "source": [
    "student.values()"
   ]
  },
  {
   "cell_type": "code",
   "execution_count": 16,
   "id": "499e170f-99ef-426e-babe-9d549afe72d1",
   "metadata": {},
   "outputs": [],
   "source": [
    "del student[\"age\"]"
   ]
  },
  {
   "cell_type": "code",
   "execution_count": 17,
   "id": "8bac1fcf-9bd5-4256-b62c-03b3d1a3226f",
   "metadata": {},
   "outputs": [
    {
     "data": {
      "text/plain": [
       "{'name': 'Delower', 'major': 'Information Technology', 'gpa': 4.5}"
      ]
     },
     "execution_count": 17,
     "metadata": {},
     "output_type": "execute_result"
    }
   ],
   "source": [
    "student"
   ]
  },
  {
   "cell_type": "code",
   "execution_count": null,
   "id": "fe0fce9f-e0e5-4c93-b68e-f8d628a4c573",
   "metadata": {},
   "outputs": [],
   "source": []
  }
 ],
 "metadata": {
  "kernelspec": {
   "display_name": "Python 3 (ipykernel)",
   "language": "python",
   "name": "python3"
  },
  "language_info": {
   "codemirror_mode": {
    "name": "ipython",
    "version": 3
   },
   "file_extension": ".py",
   "mimetype": "text/x-python",
   "name": "python",
   "nbconvert_exporter": "python",
   "pygments_lexer": "ipython3",
   "version": "3.13.5"
  }
 },
 "nbformat": 4,
 "nbformat_minor": 5
}
