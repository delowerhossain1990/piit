{
 "cells": [
  {
   "cell_type": "code",
   "execution_count": 1,
   "id": "6e8ce03a-0d00-4c69-896e-354d6e02b2c1",
   "metadata": {},
   "outputs": [],
   "source": [
    "import numpy as np\n",
    "import pandas as pd\n",
    "import random"
   ]
  },
  {
   "cell_type": "code",
   "execution_count": null,
   "id": "ea7a927f-1a0e-43cb-af10-bcbe3e89b5e3",
   "metadata": {},
   "outputs": [],
   "source": [
    "# structure gets change by use of brackets and the combination\n",
    "- list []\n",
    "- tuple ()\n",
    "- set {}\n",
    "- "
   ]
  },
  {
   "cell_type": "code",
   "execution_count": 8,
   "id": "abb987f7-7346-41f2-b497-a4f4cbc72357",
   "metadata": {},
   "outputs": [
    {
     "name": "stdout",
     "output_type": "stream",
     "text": [
      "<class 'list'> [1, 2, 3, 4, 5, 6, 7, 8, 9, 10, 11, 12, 13, 14, 15, 16, 17, 18, 19, 20]\n"
     ]
    }
   ],
   "source": [
    "rollno = list(range(1, 21))\n",
    "print(type(rollno), rollno)"
   ]
  },
  {
   "cell_type": "code",
   "execution_count": 10,
   "id": "2b1709fb-3dbc-4a9d-aaa4-a14e15845f97",
   "metadata": {},
   "outputs": [
    {
     "name": "stdout",
     "output_type": "stream",
     "text": [
      "<class 'tuple'> ['Alice', 'Bob', 'Charlee', 'Diana', 'Eithan', 'Fiona', 'George', 'Hannah', 'Ian', 'Jasmin', 'kevin', 'Lily', 'Mike', 'Nina', 'Oscar', 'Priya', 'Quinn', 'Raj', 'Sophia', 'Tom']\n"
     ]
    }
   ],
   "source": [
    "sname = ( \"Alice\", \"Bob\", \"Charlee\", \"Diana\", \"Eithan\", \"Fiona\", \"George\", \"Hannah\", \"Ian\", \"Jasmin\", \"kevin\", \"Lily\", \"Mike\", \"Nina\", \"Oscar\", \"Priya\", \"Quinn\", \"Raj\", \"Sophia\", \"Tom\")\n",
    "print(type(sname), list(sname))"
   ]
  },
  {
   "cell_type": "code",
   "execution_count": 29,
   "id": "1b110e23-34c1-41b1-8f87-d0e4bbb13005",
   "metadata": {},
   "outputs": [
    {
     "name": "stdout",
     "output_type": "stream",
     "text": [
      "['Female', 'Female', 'Female', 'Female', 'Female', 'Male', 'Male', 'Female', 'Male', 'Male', 'Female', 'Male', 'Female', 'Male', 'Female', 'Male', 'Female', 'Female', 'Female', 'Female']\n"
     ]
    }
   ],
   "source": [
    "genders_set = {\"Male\", \"Female\", \"Male\", \"Female\"}\n",
    "gender = [random.choice(list(genders_set)) for _ in rollno]\n",
    "print(list(gender))"
   ]
  },
  {
   "cell_type": "code",
   "execution_count": 18,
   "id": "fb25135f-9eb3-4321-b66f-5072e3251281",
   "metadata": {},
   "outputs": [
    {
     "data": {
      "text/plain": [
       "12"
      ]
     },
     "execution_count": 18,
     "metadata": {},
     "output_type": "execute_result"
    }
   ],
   "source": [
    "gender.count('Male')"
   ]
  },
  {
   "cell_type": "code",
   "execution_count": 30,
   "id": "ba655118-475f-44ca-a703-c1f2fea19254",
   "metadata": {},
   "outputs": [
    {
     "name": "stdout",
     "output_type": "stream",
     "text": [
      "Males - 7 Females - 13\n"
     ]
    }
   ],
   "source": [
    "print('Males -', gender.count('Male'), 'Females -', gender.count('Female'))"
   ]
  },
  {
   "cell_type": "code",
   "execution_count": 35,
   "id": "c88cfed4-3a31-488a-920e-dbea0dc3d780",
   "metadata": {},
   "outputs": [
    {
     "name": "stdout",
     "output_type": "stream",
     "text": [
      "['DS', 'CS', 'IT', 'DS', 'IT', 'IT', 'IT', 'CS', 'IT', 'IT', 'AI', 'CS', 'CS', 'DS', 'DS', 'DS', 'IT', 'DS', 'DS', 'CS']\n"
     ]
    }
   ],
   "source": [
    "courses_dict = {1:\"CS\", 2: \"IT\", 3: \"AI\", 4: \"DS\"}\n",
    "course = [courses_dict[random.randint(1, 4)] for _ in rollno]\n",
    "print(list(course))"
   ]
  },
  {
   "cell_type": "code",
   "execution_count": 38,
   "id": "baa8e276-3256-49dc-9f94-5335a404ca3d",
   "metadata": {},
   "outputs": [
    {
     "data": {
      "text/plain": [
       "array([93.07122852, 80.52208131, 60.28606114, 79.72405153, 62.87863058,\n",
       "       65.42511051, 76.10013066, 68.16472099, 86.8740641 , 74.78520508,\n",
       "       65.555938  , 58.91217254, 86.54550377, 72.7554585 , 77.68241013,\n",
       "       65.88977073, 75.53164609, 82.49649007, 60.69957782, 52.01874185])"
      ]
     },
     "execution_count": 38,
     "metadata": {},
     "output_type": "execute_result"
    }
   ],
   "source": [
    "np.random.normal(70, 10, len(rollno))"
   ]
  },
  {
   "cell_type": "code",
   "execution_count": 37,
   "id": "05ba8281-d0f4-42d3-874e-1eb4acc3e9a3",
   "metadata": {},
   "outputs": [
    {
     "data": {
      "text/plain": [
       "array([92.4, 75.8, 66.1, 80.4, 74. , 76.8, 74.9, 54.3, 68.6, 82.2, 50. ,\n",
       "       77.5, 54.1, 64.5, 67.6, 71.7, 84.8, 72.7, 90.8, 70. ])"
      ]
     },
     "execution_count": 37,
     "metadata": {},
     "output_type": "execute_result"
    }
   ],
   "source": [
    "score = np.clip(np.random.normal(70, 10, len(rollno)), 40, 100,). round(1)\n",
    "score"
   ]
  },
  {
   "cell_type": "code",
   "execution_count": 40,
   "id": "3944ae71-1e70-49fd-8ad3-6d7237187bf0",
   "metadata": {},
   "outputs": [
    {
     "data": {
      "text/plain": [
       "array([21, 22, 24, 19, 18, 20, 24, 21, 19, 22, 24, 19, 21, 18, 23, 22, 20,\n",
       "       23, 23, 20])"
      ]
     },
     "execution_count": 40,
     "metadata": {},
     "output_type": "execute_result"
    }
   ],
   "source": [
    "age = np.random.randint(18, 25, size=len(rollno))\n",
    "age"
   ]
  },
  {
   "cell_type": "code",
   "execution_count": null,
   "id": "ecc865c3-bf5b-496b-9512-0329d899fef3",
   "metadata": {},
   "outputs": [],
   "source": []
  }
 ],
 "metadata": {
  "kernelspec": {
   "display_name": "Python 3 (ipykernel)",
   "language": "python",
   "name": "python3"
  },
  "language_info": {
   "codemirror_mode": {
    "name": "ipython",
    "version": 3
   },
   "file_extension": ".py",
   "mimetype": "text/x-python",
   "name": "python",
   "nbconvert_exporter": "python",
   "pygments_lexer": "ipython3",
   "version": "3.13.5"
  }
 },
 "nbformat": 4,
 "nbformat_minor": 5
}
