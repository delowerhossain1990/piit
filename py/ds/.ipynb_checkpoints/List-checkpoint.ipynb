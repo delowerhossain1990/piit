{
 "cells": [
  {
   "cell_type": "markdown",
   "id": "a38e0b18-12b6-47dd-b817-80010e88c4fd",
   "metadata": {},
   "source": [
    "# List"
   ]
  },
  {
   "cell_type": "code",
   "execution_count": 1,
   "id": "caaeb588-0009-40e3-a8c4-7400d687e46c",
   "metadata": {},
   "outputs": [],
   "source": [
    "x = [1, 2, 3, 4, 5]"
   ]
  },
  {
   "cell_type": "code",
   "execution_count": 7,
   "id": "ba230f2d-2a96-4d6e-9349-e5c1a0e1dc0e",
   "metadata": {},
   "outputs": [
    {
     "name": "stdout",
     "output_type": "stream",
     "text": [
      "[1, 2, 3, 4, 5]\n"
     ]
    }
   ],
   "source": [
    "print(x)"
   ]
  },
  {
   "cell_type": "markdown",
   "id": "12ceedcd-a9bb-495c-9708-f1f5db608fb8",
   "metadata": {},
   "source": [
    "## Type: shows what type are the elements"
   ]
  },
  {
   "cell_type": "code",
   "execution_count": 3,
   "id": "0c1dd95c-df9f-4c74-b12c-6173d8ea7ebc",
   "metadata": {},
   "outputs": [
    {
     "data": {
      "text/plain": [
       "list"
      ]
     },
     "execution_count": 3,
     "metadata": {},
     "output_type": "execute_result"
    }
   ],
   "source": [
    "type(x)"
   ]
  },
  {
   "cell_type": "code",
   "execution_count": 4,
   "id": "ddf90ff0-5cd4-4010-b62b-3f8722d32f04",
   "metadata": {},
   "outputs": [],
   "source": [
    "x1 = [1, 11, 13.89, \"Delower\", 'PIIT', True, 67, 10]"
   ]
  },
  {
   "cell_type": "code",
   "execution_count": 8,
   "id": "0dcf28e9-885b-4b80-a0f6-d8580d79a8b5",
   "metadata": {},
   "outputs": [
    {
     "data": {
      "text/plain": [
       "[1, 11, 13.89, 'Delower', 'PIIT', True, 67, 10]"
      ]
     },
     "execution_count": 8,
     "metadata": {},
     "output_type": "execute_result"
    }
   ],
   "source": [
    "x1"
   ]
  },
  {
   "cell_type": "markdown",
   "id": "9093f263-2c33-47f1-8e24-2ba93897e71c",
   "metadata": {},
   "source": [
    "## len : shows the length of the element"
   ]
  },
  {
   "cell_type": "code",
   "execution_count": 9,
   "id": "6c1c6613-931e-48dc-96fa-c9206a1725c7",
   "metadata": {},
   "outputs": [
    {
     "data": {
      "text/plain": [
       "8"
      ]
     },
     "execution_count": 9,
     "metadata": {},
     "output_type": "execute_result"
    }
   ],
   "source": [
    "len(x1)"
   ]
  },
  {
   "cell_type": "code",
   "execution_count": 13,
   "id": "984884a2-00e4-49ae-b3bf-3ecf088ff1a8",
   "metadata": {},
   "outputs": [
    {
     "data": {
      "text/plain": [
       "67"
      ]
     },
     "execution_count": 13,
     "metadata": {},
     "output_type": "execute_result"
    }
   ],
   "source": [
    "x1[6]"
   ]
  },
  {
   "cell_type": "code",
   "execution_count": 15,
   "id": "c3f8aae2-cdc5-4ee1-94ca-2119e467b342",
   "metadata": {},
   "outputs": [
    {
     "data": {
      "text/plain": [
       "4"
      ]
     },
     "execution_count": 15,
     "metadata": {},
     "output_type": "execute_result"
    }
   ],
   "source": [
    "x[3]"
   ]
  },
  {
   "cell_type": "markdown",
   "id": "3e79586d-1fa9-4040-a90c-cdb661b4ce78",
   "metadata": {},
   "source": [
    "## Add : Add any name or neumeric in existing elements"
   ]
  },
  {
   "cell_type": "code",
   "execution_count": 16,
   "id": "435e155b-3780-4393-b59d-58f974177391",
   "metadata": {},
   "outputs": [],
   "source": [
    "x1[5] = \"Barkat\" #Change the element in particular position"
   ]
  },
  {
   "cell_type": "code",
   "execution_count": 17,
   "id": "f19dffa2-7d47-470b-875e-55792bd1e94f",
   "metadata": {},
   "outputs": [
    {
     "data": {
      "text/plain": [
       "[1, 11, 13.89, 'Delower', 'PIIT', 'Barkat', 67, 10]"
      ]
     },
     "execution_count": 17,
     "metadata": {},
     "output_type": "execute_result"
    }
   ],
   "source": [
    "x1"
   ]
  },
  {
   "cell_type": "code",
   "execution_count": 18,
   "id": "cff74cb4-6539-4158-a4fb-4d5db55c737c",
   "metadata": {},
   "outputs": [],
   "source": [
    "y=x+x1"
   ]
  },
  {
   "cell_type": "code",
   "execution_count": 19,
   "id": "7d470ee1-d147-4af7-8a62-5fe62d00dcaf",
   "metadata": {},
   "outputs": [
    {
     "data": {
      "text/plain": [
       "[1, 2, 3, 4, 5, 1, 11, 13.89, 'Delower', 'PIIT', 'Barkat', 67, 10]"
      ]
     },
     "execution_count": 19,
     "metadata": {},
     "output_type": "execute_result"
    }
   ],
   "source": [
    "y"
   ]
  },
  {
   "cell_type": "markdown",
   "id": "bfd99705-689f-4adb-a586-c40529cd5db0",
   "metadata": {},
   "source": [
    "## append, inserts new element"
   ]
  },
  {
   "cell_type": "code",
   "execution_count": 20,
   "id": "ec373780-e229-4d5a-98ff-1c45c1e3e89a",
   "metadata": {},
   "outputs": [],
   "source": [
    "x.append(\"Mandal\")"
   ]
  },
  {
   "cell_type": "code",
   "execution_count": 21,
   "id": "001d00b7-23cf-44a5-a646-400764d79ca3",
   "metadata": {},
   "outputs": [
    {
     "data": {
      "text/plain": [
       "[1, 2, 3, 4, 5, 'Mandal']"
      ]
     },
     "execution_count": 21,
     "metadata": {},
     "output_type": "execute_result"
    }
   ],
   "source": [
    "x"
   ]
  },
  {
   "cell_type": "code",
   "execution_count": 22,
   "id": "6cd7e390-8963-47c1-b0a3-a0509a1a4a75",
   "metadata": {},
   "outputs": [],
   "source": [
    "x.append(100)"
   ]
  },
  {
   "cell_type": "code",
   "execution_count": 23,
   "id": "4aeef27c-3ef1-4f4e-b355-0800a8ccdd6e",
   "metadata": {},
   "outputs": [
    {
     "data": {
      "text/plain": [
       "[1, 2, 3, 4, 5, 'Mandal', 100]"
      ]
     },
     "execution_count": 23,
     "metadata": {},
     "output_type": "execute_result"
    }
   ],
   "source": [
    "x"
   ]
  },
  {
   "cell_type": "markdown",
   "id": "979d4c78-92cf-4317-b9b1-97a6a28c3fc2",
   "metadata": {},
   "source": [
    "## insert, inserts new element with particular place"
   ]
  },
  {
   "cell_type": "code",
   "execution_count": 25,
   "id": "5c3e954c-3cee-46dc-95dd-e84807421fd6",
   "metadata": {},
   "outputs": [],
   "source": [
    "x.insert(1, 'Suroor')"
   ]
  },
  {
   "cell_type": "code",
   "execution_count": 26,
   "id": "bbb6f504-1e27-4295-9cd9-9c4b855685dd",
   "metadata": {},
   "outputs": [
    {
     "data": {
      "text/plain": [
       "[1, 'Suroor', 2, 3, 4, 5, 'Mandal', 100]"
      ]
     },
     "execution_count": 26,
     "metadata": {},
     "output_type": "execute_result"
    }
   ],
   "source": [
    "x"
   ]
  },
  {
   "cell_type": "markdown",
   "id": "7750058e-fb2f-47be-868a-716a1eb2061e",
   "metadata": {},
   "source": [
    "## reverse, displays from last to first"
   ]
  },
  {
   "cell_type": "code",
   "execution_count": 27,
   "id": "e1112d31-e139-441f-a7ca-0324f4921941",
   "metadata": {},
   "outputs": [],
   "source": [
    "x.reverse()"
   ]
  },
  {
   "cell_type": "code",
   "execution_count": 28,
   "id": "97232111-b279-4681-b781-e2b334298061",
   "metadata": {},
   "outputs": [
    {
     "data": {
      "text/plain": [
       "[100, 'Mandal', 5, 4, 3, 2, 'Suroor', 1]"
      ]
     },
     "execution_count": 28,
     "metadata": {},
     "output_type": "execute_result"
    }
   ],
   "source": [
    "x"
   ]
  },
  {
   "cell_type": "markdown",
   "id": "b90b40c8-4807-4417-9d7c-cf59268af035",
   "metadata": {},
   "source": [
    "## count, count the repeatation of the element"
   ]
  },
  {
   "cell_type": "code",
   "execution_count": 33,
   "id": "f8f0caa6-a8d4-4107-a8b7-92dc1212e8d6",
   "metadata": {},
   "outputs": [
    {
     "data": {
      "text/plain": [
       "1"
      ]
     },
     "execution_count": 33,
     "metadata": {},
     "output_type": "execute_result"
    }
   ],
   "source": [
    "x.count(5)"
   ]
  },
  {
   "cell_type": "markdown",
   "id": "13bb9c40-fbb1-4e0a-9d31-8c13f5d98466",
   "metadata": {},
   "source": [
    "## remove, remove particular value"
   ]
  },
  {
   "cell_type": "code",
   "execution_count": 83,
   "id": "64a9a21c-833f-4fdd-a3ec-9171c2ba9ec0",
   "metadata": {},
   "outputs": [
    {
     "name": "stdout",
     "output_type": "stream",
     "text": [
      "[1, 11, 13.89, 'Delower', 'PIIT', 'Barkat', 67, 10]\n"
     ]
    }
   ],
   "source": [
    "print(x1)"
   ]
  },
  {
   "cell_type": "code",
   "execution_count": 84,
   "id": "5552d604-f1be-4038-8b83-7a38bfebe6ab",
   "metadata": {},
   "outputs": [],
   "source": [
    "x1.remove(11)"
   ]
  },
  {
   "cell_type": "code",
   "execution_count": 85,
   "id": "445a3d59-d945-4edf-9602-09009088a622",
   "metadata": {},
   "outputs": [
    {
     "data": {
      "text/plain": [
       "[1, 13.89, 'Delower', 'PIIT', 'Barkat', 67, 10]"
      ]
     },
     "execution_count": 85,
     "metadata": {},
     "output_type": "execute_result"
    }
   ],
   "source": [
    "x1"
   ]
  },
  {
   "cell_type": "markdown",
   "id": "d7057b46-ed2f-4a07-a661-7f089d53af66",
   "metadata": {},
   "source": [
    "## pop, remove particular value with dispaly what removed"
   ]
  },
  {
   "cell_type": "code",
   "execution_count": 87,
   "id": "772e0bb2-19d8-4068-9fda-c142b2f7be91",
   "metadata": {},
   "outputs": [
    {
     "data": {
      "text/plain": [
       "'Barkat'"
      ]
     },
     "execution_count": 87,
     "metadata": {},
     "output_type": "execute_result"
    }
   ],
   "source": [
    "x1.pop(4)"
   ]
  },
  {
   "cell_type": "code",
   "execution_count": 89,
   "id": "9c13ff3c-79bc-47e9-a775-f8b3bb474810",
   "metadata": {},
   "outputs": [],
   "source": [
    "x1.remove(67)"
   ]
  },
  {
   "cell_type": "code",
   "execution_count": 90,
   "id": "f6be54a7-b75f-4e29-bb66-d5f59707edf2",
   "metadata": {},
   "outputs": [
    {
     "data": {
      "text/plain": [
       "[1, 13.89, 'Delower', 'PIIT', 10]"
      ]
     },
     "execution_count": 90,
     "metadata": {},
     "output_type": "execute_result"
    }
   ],
   "source": [
    "x1"
   ]
  },
  {
   "cell_type": "code",
   "execution_count": 66,
   "id": "9c56af6e-bd25-4257-bfff-ff3afff47b23",
   "metadata": {},
   "outputs": [
    {
     "name": "stdout",
     "output_type": "stream",
     "text": [
      "['append', 'clear', 'copy', 'count', 'extend', 'index', 'insert', 'pop', 'remove', 'reverse', 'sort']\n"
     ]
    }
   ],
   "source": [
    "methods = [method for method in dir(list) if callable(getattr(list, method)) and not method.startswith('__')]\n",
    "print(methods)"
   ]
  },
  {
   "cell_type": "markdown",
   "id": "a1e05d7a-fb25-4b2d-be2d-336bd015203f",
   "metadata": {},
   "source": [
    "## clear, clears the list"
   ]
  },
  {
   "cell_type": "code",
   "execution_count": 95,
   "id": "e7b0e172-c2dd-45df-8d4a-318ef672eaca",
   "metadata": {},
   "outputs": [],
   "source": [
    "x.clear()"
   ]
  },
  {
   "cell_type": "code",
   "execution_count": 96,
   "id": "becf0fd4-9490-49ab-b557-bd329b61dddf",
   "metadata": {},
   "outputs": [
    {
     "data": {
      "text/plain": [
       "[]"
      ]
     },
     "execution_count": 96,
     "metadata": {},
     "output_type": "execute_result"
    }
   ],
   "source": [
    "x"
   ]
  },
  {
   "cell_type": "markdown",
   "id": "fb19d64f-d497-4f40-aadf-2e610ea7df86",
   "metadata": {},
   "source": [
    "## index, helps to find the position"
   ]
  },
  {
   "cell_type": "code",
   "execution_count": 97,
   "id": "f3a9e5a4-e0e4-4c95-9107-350c6b36c509",
   "metadata": {},
   "outputs": [],
   "source": [
    "x=[1,2,3,4,5,6]\n",
    "x2=[5,6,7,8,9]\n",
    "x.extend(x2)"
   ]
  },
  {
   "cell_type": "code",
   "execution_count": 98,
   "id": "3761358a-4b48-4021-9892-f86f1b79d7ab",
   "metadata": {},
   "outputs": [
    {
     "data": {
      "text/plain": [
       "[1, 2, 3, 4, 5, 6, 5, 6, 7, 8, 9]"
      ]
     },
     "execution_count": 98,
     "metadata": {},
     "output_type": "execute_result"
    }
   ],
   "source": [
    "x"
   ]
  },
  {
   "cell_type": "code",
   "execution_count": 99,
   "id": "9f431920-496e-4d4b-bbf0-7763646232d5",
   "metadata": {},
   "outputs": [],
   "source": [
    "index=x.index(8)"
   ]
  },
  {
   "cell_type": "code",
   "execution_count": 100,
   "id": "2f08cc30-1060-4c31-be70-6703e23bf07e",
   "metadata": {},
   "outputs": [
    {
     "data": {
      "text/plain": [
       "9"
      ]
     },
     "execution_count": 100,
     "metadata": {},
     "output_type": "execute_result"
    }
   ],
   "source": [
    "index"
   ]
  },
  {
   "cell_type": "code",
   "execution_count": 101,
   "id": "1e3c853b-dbfe-47a5-a07e-fc528bcb2f10",
   "metadata": {},
   "outputs": [],
   "source": [
    "index1=x.index(4,0,5)"
   ]
  },
  {
   "cell_type": "code",
   "execution_count": 102,
   "id": "2b35fa47-4de8-4b34-bac5-8b0389b42354",
   "metadata": {},
   "outputs": [
    {
     "data": {
      "text/plain": [
       "3"
      ]
     },
     "execution_count": 102,
     "metadata": {},
     "output_type": "execute_result"
    }
   ],
   "source": [
    "index1"
   ]
  },
  {
   "cell_type": "code",
   "execution_count": 103,
   "id": "fe3e653f-ca11-4c89-b670-834688694ea0",
   "metadata": {},
   "outputs": [],
   "source": [
    "x.insert(2,7)"
   ]
  },
  {
   "cell_type": "code",
   "execution_count": 104,
   "id": "02e33ec7-f614-4c3e-8ba5-83de228054a9",
   "metadata": {},
   "outputs": [
    {
     "data": {
      "text/plain": [
       "[1, 2, 7, 3, 4, 5, 6, 5, 6, 7, 8, 9]"
      ]
     },
     "execution_count": 104,
     "metadata": {},
     "output_type": "execute_result"
    }
   ],
   "source": [
    "x"
   ]
  },
  {
   "cell_type": "markdown",
   "id": "759045e2-c21f-48c2-991f-17fbf64b383f",
   "metadata": {},
   "source": [
    "## sort"
   ]
  },
  {
   "cell_type": "code",
   "execution_count": 105,
   "id": "3b5bad71-1c36-47d8-843b-da771125e860",
   "metadata": {},
   "outputs": [],
   "source": [
    "x.sort()\n"
   ]
  },
  {
   "cell_type": "code",
   "execution_count": 106,
   "id": "17eb5949-065d-41da-8300-d823863b1d07",
   "metadata": {},
   "outputs": [
    {
     "data": {
      "text/plain": [
       "[1, 2, 3, 4, 5, 5, 6, 6, 7, 7, 8, 9]"
      ]
     },
     "execution_count": 106,
     "metadata": {},
     "output_type": "execute_result"
    }
   ],
   "source": [
    "x"
   ]
  },
  {
   "cell_type": "code",
   "execution_count": null,
   "id": "432e5a4f-b61b-4c8c-8204-97ccead07993",
   "metadata": {},
   "outputs": [],
   "source": []
  }
 ],
 "metadata": {
  "kernelspec": {
   "display_name": "Python 3 (ipykernel)",
   "language": "python",
   "name": "python3"
  },
  "language_info": {
   "codemirror_mode": {
    "name": "ipython",
    "version": 3
   },
   "file_extension": ".py",
   "mimetype": "text/x-python",
   "name": "python",
   "nbconvert_exporter": "python",
   "pygments_lexer": "ipython3",
   "version": "3.13.5"
  }
 },
 "nbformat": 4,
 "nbformat_minor": 5
}
