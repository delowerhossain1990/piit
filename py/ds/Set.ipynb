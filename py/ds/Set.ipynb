{
 "cells": [
  {
   "cell_type": "markdown",
   "id": "169d8c6d-c329-472c-8ae0-9b483df92d4f",
   "metadata": {},
   "source": [
    "# Set"
   ]
  },
  {
   "cell_type": "code",
   "execution_count": 1,
   "id": "e1b2b693-8af1-4eb3-b50a-1d560d0be772",
   "metadata": {},
   "outputs": [],
   "source": [
    "set1={1,2,3,4,5}"
   ]
  },
  {
   "cell_type": "code",
   "execution_count": 2,
   "id": "a93a1354-933f-41f9-8cca-a7d25234c036",
   "metadata": {
    "scrolled": true
   },
   "outputs": [
    {
     "data": {
      "text/plain": [
       "{1, 2, 3, 4, 5}"
      ]
     },
     "execution_count": 2,
     "metadata": {},
     "output_type": "execute_result"
    }
   ],
   "source": [
    "set1"
   ]
  },
  {
   "cell_type": "code",
   "execution_count": 3,
   "id": "d6f7c3d7-89be-4978-86e1-9618ecf7d3b3",
   "metadata": {
    "scrolled": true
   },
   "outputs": [
    {
     "data": {
      "text/plain": [
       "set"
      ]
     },
     "execution_count": 3,
     "metadata": {},
     "output_type": "execute_result"
    }
   ],
   "source": [
    "type(set1)"
   ]
  },
  {
   "cell_type": "code",
   "execution_count": 4,
   "id": "79d519ec-5ac5-44f0-81dd-c4153069b9a5",
   "metadata": {},
   "outputs": [],
   "source": [
    "# Creating a set from a list using the set () constructor\n",
    "set2=set([7,8,6,4,5,7,8])"
   ]
  },
  {
   "cell_type": "code",
   "execution_count": 5,
   "id": "20c9f418-b7aa-4b3e-927c-612445ea70c6",
   "metadata": {},
   "outputs": [
    {
     "data": {
      "text/plain": [
       "{4, 5, 6, 7, 8}"
      ]
     },
     "execution_count": 5,
     "metadata": {},
     "output_type": "execute_result"
    }
   ],
   "source": [
    "set2"
   ]
  },
  {
   "cell_type": "code",
   "execution_count": 8,
   "id": "9bc1ff29-b035-4c7e-8cbb-e4aefcddeb5e",
   "metadata": {},
   "outputs": [],
   "source": [
    "teamA = {'India','Bangladesh','Pakistan','USA'}\n",
    "teamB = {'India','France','Bangladesh','UK','Srilanka','India'}"
   ]
  },
  {
   "cell_type": "code",
   "execution_count": 9,
   "id": "7f4e7368-4c34-481f-b7be-08b8ef330253",
   "metadata": {},
   "outputs": [
    {
     "name": "stdout",
     "output_type": "stream",
     "text": [
      "{'Bangladesh', 'USA', 'Pakistan', 'India'}\n",
      "{'Bangladesh', 'France', 'India', 'UK', 'Srilanka'}\n"
     ]
    }
   ],
   "source": [
    "print(teamA)\n",
    "print(teamB)"
   ]
  },
  {
   "cell_type": "code",
   "execution_count": 11,
   "id": "536bd186-bfe1-4a6b-91e1-127247ede92e",
   "metadata": {},
   "outputs": [],
   "source": [
    "teamA.add(\"Nepal\")"
   ]
  },
  {
   "cell_type": "code",
   "execution_count": 12,
   "id": "3d5e73c7-921d-4c20-ab91-dfa2dde25650",
   "metadata": {},
   "outputs": [
    {
     "data": {
      "text/plain": [
       "{'Bangladesh', 'India', 'Nepal', 'Pakistan', 'USA'}"
      ]
     },
     "execution_count": 12,
     "metadata": {},
     "output_type": "execute_result"
    }
   ],
   "source": [
    "teamA"
   ]
  },
  {
   "cell_type": "markdown",
   "id": "82b4d632-55a2-470a-afbf-99ef0ff39bce",
   "metadata": {},
   "source": [
    "# Union"
   ]
  },
  {
   "cell_type": "code",
   "execution_count": 13,
   "id": "2892edb6-8234-4a6f-871e-79022f1b7c1e",
   "metadata": {},
   "outputs": [
    {
     "name": "stdout",
     "output_type": "stream",
     "text": [
      "{'Bangladesh', 'Pakistan', 'India', 'France', 'USA', 'Nepal', 'UK', 'Srilanka'}\n"
     ]
    }
   ],
   "source": [
    "print(teamA.union(teamB))"
   ]
  },
  {
   "cell_type": "code",
   "execution_count": 14,
   "id": "1bdba9e2-4a2e-4981-a687-b3781b2ee7de",
   "metadata": {},
   "outputs": [
    {
     "name": "stdout",
     "output_type": "stream",
     "text": [
      "{'Bangladesh', 'Pakistan', 'India', 'France', 'USA', 'Nepal', 'UK', 'Srilanka'}\n"
     ]
    }
   ],
   "source": [
    "print(teamA | teamB)"
   ]
  },
  {
   "cell_type": "markdown",
   "id": "219ee5d2-7a10-47f6-9ebf-86f813e03ab1",
   "metadata": {},
   "source": [
    "# intersection"
   ]
  },
  {
   "cell_type": "code",
   "execution_count": 16,
   "id": "1d7aa0c7-4909-426f-9a63-3ea3b81527f2",
   "metadata": {},
   "outputs": [
    {
     "name": "stdout",
     "output_type": "stream",
     "text": [
      "{'Bangladesh', 'India'}\n"
     ]
    }
   ],
   "source": [
    "print(teamA.intersection(teamB))"
   ]
  },
  {
   "cell_type": "code",
   "execution_count": 17,
   "id": "b2d2ac80-9445-4495-8a92-6691af2c47e3",
   "metadata": {},
   "outputs": [
    {
     "name": "stdout",
     "output_type": "stream",
     "text": [
      "{'Bangladesh', 'India'}\n"
     ]
    }
   ],
   "source": [
    "print(teamA & teamB)"
   ]
  },
  {
   "cell_type": "markdown",
   "id": "23aa3b08-5028-4c72-8d98-a8b8e9050531",
   "metadata": {},
   "source": [
    "# Difference"
   ]
  },
  {
   "cell_type": "code",
   "execution_count": 19,
   "id": "8d9f41d1-eb7a-4a66-a9f8-df64af907126",
   "metadata": {},
   "outputs": [
    {
     "name": "stdout",
     "output_type": "stream",
     "text": [
      "{'USA', 'Pakistan', 'Nepal'}\n"
     ]
    }
   ],
   "source": [
    "print(teamA-teamB)"
   ]
  },
  {
   "cell_type": "code",
   "execution_count": 20,
   "id": "1298419f-1a5a-4b3b-9da5-661ec7ca7010",
   "metadata": {},
   "outputs": [
    {
     "name": "stdout",
     "output_type": "stream",
     "text": [
      "{'France', 'UK', 'Srilanka'}\n"
     ]
    }
   ],
   "source": [
    "print(teamB-teamA)"
   ]
  },
  {
   "cell_type": "markdown",
   "id": "df9f47dc-1dfc-4670-9f41-cdb6ecba528e",
   "metadata": {},
   "source": [
    "# Symmetric Difference"
   ]
  },
  {
   "cell_type": "code",
   "execution_count": 21,
   "id": "33c1a613-be2c-4d03-a784-4fae4efe4c7d",
   "metadata": {},
   "outputs": [
    {
     "name": "stdout",
     "output_type": "stream",
     "text": [
      "{'France', 'Pakistan', 'USA', 'Nepal', 'UK', 'Srilanka'}\n"
     ]
    }
   ],
   "source": [
    "print(teamA^teamB)"
   ]
  },
  {
   "cell_type": "code",
   "execution_count": 22,
   "id": "e491fac5-dc99-4a5c-a858-6dd6f6cb32b7",
   "metadata": {},
   "outputs": [
    {
     "name": "stdout",
     "output_type": "stream",
     "text": [
      "{'Pakistan', 'France', 'USA', 'Nepal', 'UK', 'Srilanka'}\n"
     ]
    }
   ],
   "source": [
    "print(teamB^teamA)"
   ]
  },
  {
   "cell_type": "code",
   "execution_count": 23,
   "id": "294c7a7e-33dc-4da0-a5bf-c6a0212275a5",
   "metadata": {},
   "outputs": [
    {
     "data": {
      "text/plain": [
       "{'France', 'Nepal', 'Pakistan', 'Srilanka', 'UK', 'USA'}"
      ]
     },
     "execution_count": 23,
     "metadata": {},
     "output_type": "execute_result"
    }
   ],
   "source": [
    "result=teamA.symmetric_difference(teamB)\n",
    "result"
   ]
  },
  {
   "cell_type": "markdown",
   "id": "2e9ed17e-ed01-44b6-8cc7-ff3d4db5dde9",
   "metadata": {},
   "source": [
    "# Membership Testing"
   ]
  },
  {
   "cell_type": "code",
   "execution_count": 24,
   "id": "0d3eb18f-295f-4b1b-bec7-01e3bd0de919",
   "metadata": {},
   "outputs": [
    {
     "data": {
      "text/plain": [
       "False"
      ]
     },
     "execution_count": 24,
     "metadata": {},
     "output_type": "execute_result"
    }
   ],
   "source": [
    "teamA in teamB"
   ]
  },
  {
   "cell_type": "code",
   "execution_count": 25,
   "id": "246ae2a8-40c3-4350-ae22-1c3a04122667",
   "metadata": {},
   "outputs": [
    {
     "data": {
      "text/plain": [
       "True"
      ]
     },
     "execution_count": 25,
     "metadata": {},
     "output_type": "execute_result"
    }
   ],
   "source": [
    "'India' in teamA"
   ]
  },
  {
   "cell_type": "code",
   "execution_count": 27,
   "id": "ea478761-7810-401e-8419-93f6071bb604",
   "metadata": {},
   "outputs": [
    {
     "data": {
      "text/plain": [
       "{1947, 'India', True}"
      ]
     },
     "execution_count": 27,
     "metadata": {},
     "output_type": "execute_result"
    }
   ],
   "source": [
    "mixedset = {'India', 1947, True, 'India'}\n",
    "mixedset"
   ]
  },
  {
   "cell_type": "code",
   "execution_count": 28,
   "id": "f676c24a-6fd2-4503-b082-193a41dd2f59",
   "metadata": {},
   "outputs": [
    {
     "data": {
      "text/plain": [
       "True"
      ]
     },
     "execution_count": 28,
     "metadata": {},
     "output_type": "execute_result"
    }
   ],
   "source": [
    "'India' in teamA and 'Pakistan' in teamA"
   ]
  },
  {
   "cell_type": "code",
   "execution_count": 29,
   "id": "0f671df7-463b-4ba2-93c0-cfcca844721d",
   "metadata": {},
   "outputs": [
    {
     "name": "stdout",
     "output_type": "stream",
     "text": [
      "Bangladesh\n",
      "Pakistan\n",
      "India\n",
      "USA\n",
      "Nepal\n"
     ]
    }
   ],
   "source": [
    "for i in teamA:\n",
    "    print(i)"
   ]
  },
  {
   "cell_type": "code",
   "execution_count": 30,
   "id": "b0cb70ff-3caa-49f7-a0b0-2137a46c02a3",
   "metadata": {},
   "outputs": [],
   "source": [
    "t1 = ('India', 'UK', 'USA', 'Bangladesh')"
   ]
  },
  {
   "cell_type": "code",
   "execution_count": 34,
   "id": "848f323c-4acf-498a-b058-448305eb16e7",
   "metadata": {},
   "outputs": [
    {
     "name": "stdout",
     "output_type": "stream",
     "text": [
      "Bangladesh True\n",
      "Pakistan True\n",
      "India True\n",
      "USA True\n",
      "Nepal True\n"
     ]
    }
   ],
   "source": [
    "for i in teamA:\n",
    "    print(i, i in teamA)"
   ]
  },
  {
   "cell_type": "code",
   "execution_count": null,
   "id": "5b4c7144-fedf-4ed8-8331-f649863eb4a4",
   "metadata": {},
   "outputs": [],
   "source": []
  }
 ],
 "metadata": {
  "kernelspec": {
   "display_name": "Python 3 (ipykernel)",
   "language": "python",
   "name": "python3"
  },
  "language_info": {
   "codemirror_mode": {
    "name": "ipython",
    "version": 3
   },
   "file_extension": ".py",
   "mimetype": "text/x-python",
   "name": "python",
   "nbconvert_exporter": "python",
   "pygments_lexer": "ipython3",
   "version": "3.13.5"
  }
 },
 "nbformat": 4,
 "nbformat_minor": 5
}
