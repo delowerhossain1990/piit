{
 "cells": [
  {
   "cell_type": "markdown",
   "id": "d35d55ff-cda1-426c-95a3-1e0c5b85292d",
   "metadata": {},
   "source": [
    "# Python - Creating Own Data\n",
    "- create data inside python - list, dictionary, distribution etc\n",
    "- upload data from laptop - csv, excel, email attachment, etc\n",
    "- import data from web - git, kaggle, url etc"
   ]
  },
  {
   "cell_type": "raw",
   "id": "e1f3edd6-02f7-490f-8f28-b786d78a614a",
   "metadata": {},
   "source": [
    "import numpy as np\n",
    "import pandas as pd\n",
    "import random # create random values"
   ]
  },
  {
   "cell_type": "markdown",
   "id": "f532a1ab-406c-4600-ae1b-0c71eb7377b6",
   "metadata": {},
   "source": [
    "# Step-1 Setup\n",
    "- Create data using various Pyhton structures\n",
    "- ## 20 students - rollno, sname, gender, course, scores, age"
   ]
  },
  {
   "cell_type": "code",
   "execution_count": 4,
   "id": "9122f628-2b8c-4d47-9abd-c62ebd779f48",
   "metadata": {},
   "outputs": [
    {
     "name": "stdout",
     "output_type": "stream",
     "text": [
      "<class 'list'> [1, 2, 3, 4, 5, 6, 7, 8, 9, 10, 11, 12, 13, 14, 15, 16, 17, 18, 19, 20]\n"
     ]
    }
   ],
   "source": [
    "# Rollnos -list\n",
    "rollno = list(range (1, 21))    #20 students; 1 to 21-1\n",
    "print(type(rollno), rollno)"
   ]
  },
  {
   "cell_type": "code",
   "execution_count": 19,
   "id": "e713e19e-b35b-4cdd-a75f-542a69db8d1a",
   "metadata": {},
   "outputs": [
    {
     "name": "stdout",
     "output_type": "stream",
     "text": [
      "<class 'tuple'> []\n"
     ]
    }
   ],
   "source": [
    "# Names (tuple) \n",
    "print(type(sname), list(sname))"
   ]
  },
  {
   "cell_type": "code",
   "execution_count": null,
   "id": "76a66bca-e8cf-4bec-a4ae-7edcb9a0c767",
   "metadata": {},
   "outputs": [],
   "source": []
  },
  {
   "cell_type": "code",
   "execution_count": null,
   "id": "3e84f69a-1049-46f0-a9f0-8a9cb454ee18",
   "metadata": {},
   "outputs": [],
   "source": []
  }
 ],
 "metadata": {
  "kernelspec": {
   "display_name": "Python 3 (ipykernel)",
   "language": "python",
   "name": "python3"
  },
  "language_info": {
   "codemirror_mode": {
    "name": "ipython",
    "version": 3
   },
   "file_extension": ".py",
   "mimetype": "text/x-python",
   "name": "python",
   "nbconvert_exporter": "python",
   "pygments_lexer": "ipython3",
   "version": "3.13.5"
  }
 },
 "nbformat": 4,
 "nbformat_minor": 5
}
