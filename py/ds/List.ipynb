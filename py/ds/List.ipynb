{
 "cells": [
  {
   "cell_type": "markdown",
   "id": "69d8be40-84db-4e78-97a0-694ffdf62708",
   "metadata": {},
   "source": [
    "# LIST"
   ]
  },
  {
   "cell_type": "code",
   "execution_count": 1,
   "id": "d42afb81-7d63-44d5-8c51-68871e744962",
   "metadata": {},
   "outputs": [],
   "source": [
    "# List Python- - Interpreted Language - Line by Line"
   ]
  },
  {
   "cell_type": "code",
   "execution_count": null,
   "id": "c871c2c1-af9d-434d-b3b0-62b12cf94ac3",
   "metadata": {},
   "outputs": [],
   "source": [
    "# Run a Line (Execute) - Shift + Enter"
   ]
  },
  {
   "cell_type": "markdown",
   "id": "c3bdb073-dae0-45a6-a1c1-b61bf4f6d671",
   "metadata": {},
   "source": [
    "## 1st List"
   ]
  },
  {
   "cell_type": "code",
   "execution_count": 2,
   "id": "311d7e55-6335-4963-855b-2d61e82c6061",
   "metadata": {},
   "outputs": [],
   "source": [
    "x = [1,2,3,5] #variable which gets stored in Environment"
   ]
  },
  {
   "cell_type": "code",
   "execution_count": 3,
   "id": "84be6b64-9a2e-4eab-b349-8f5566621929",
   "metadata": {},
   "outputs": [
    {
     "data": {
      "text/plain": [
       "[1, 2, 3, 5]"
      ]
     },
     "execution_count": 3,
     "metadata": {},
     "output_type": "execute_result"
    }
   ],
   "source": [
    "x"
   ]
  },
  {
   "cell_type": "code",
   "execution_count": 4,
   "id": "d6a3c1c7-7c0a-4f88-ad62-ba7f70046125",
   "metadata": {},
   "outputs": [
    {
     "name": "stdout",
     "output_type": "stream",
     "text": [
      "[1, 2, 3, 5]\n"
     ]
    }
   ],
   "source": [
    "print(x)"
   ]
  },
  {
   "cell_type": "code",
   "execution_count": 5,
   "id": "acf795eb-5cad-482f-a51c-86cd548d5739",
   "metadata": {},
   "outputs": [
    {
     "data": {
      "text/plain": [
       "list"
      ]
     },
     "execution_count": 5,
     "metadata": {},
     "output_type": "execute_result"
    }
   ],
   "source": [
    "type(x)"
   ]
  },
  {
   "cell_type": "code",
   "execution_count": 60,
   "id": "68ad4878-ca63-4469-85e1-dbe55c0dd309",
   "metadata": {},
   "outputs": [],
   "source": [
    "x = [1, 2, 3, \"Delower\", 'Barkat', True, False, 100.50]"
   ]
  },
  {
   "cell_type": "code",
   "execution_count": 61,
   "id": "5f1762aa-a6e3-41fd-9c5a-0526532c3056",
   "metadata": {},
   "outputs": [
    {
     "name": "stdout",
     "output_type": "stream",
     "text": [
      "[1, 2, 3, 'Delower', 'Barkat', True, False, 100.5]\n"
     ]
    }
   ],
   "source": [
    "print(x)"
   ]
  },
  {
   "cell_type": "code",
   "execution_count": 62,
   "id": "a9373a1a-1866-4313-a372-b3b07fbb3b8e",
   "metadata": {},
   "outputs": [],
   "source": [
    "x.append(\"Rashed\")"
   ]
  },
  {
   "cell_type": "code",
   "execution_count": 63,
   "id": "12fd1893-9dfd-4a7b-9944-a028f19134c2",
   "metadata": {},
   "outputs": [
    {
     "data": {
      "text/plain": [
       "[1, 2, 3, 'Delower', 'Barkat', True, False, 100.5, 'Rashed']"
      ]
     },
     "execution_count": 63,
     "metadata": {},
     "output_type": "execute_result"
    }
   ],
   "source": [
    "x"
   ]
  },
  {
   "cell_type": "code",
   "execution_count": 65,
   "id": "58ad7426-6e84-4310-8029-60967739dc6f",
   "metadata": {},
   "outputs": [],
   "source": [
    "x.insert(3, \"Riaz\")"
   ]
  },
  {
   "cell_type": "code",
   "execution_count": 66,
   "id": "3836ced1-77ea-442d-9d8a-954b19af101d",
   "metadata": {},
   "outputs": [
    {
     "data": {
      "text/plain": [
       "[1, 2, 3, 'Riaz', 'Delower', 'Barkat', True, False, 100.5, 'Rashed']"
      ]
     },
     "execution_count": 66,
     "metadata": {},
     "output_type": "execute_result"
    }
   ],
   "source": [
    "x"
   ]
  },
  {
   "cell_type": "code",
   "execution_count": null,
   "id": "704d72b2-dd57-43e7-8413-a1ad02b924de",
   "metadata": {},
   "outputs": [],
   "source": []
  },
  {
   "cell_type": "code",
   "execution_count": null,
   "id": "578bce2a-4b26-449b-b55c-83512087a78a",
   "metadata": {},
   "outputs": [],
   "source": []
  },
  {
   "cell_type": "markdown",
   "id": "5ff84174-cc47-453d-952b-fc4416328f3e",
   "metadata": {},
   "source": [
    "## 2nd List"
   ]
  },
  {
   "cell_type": "code",
   "execution_count": 9,
   "id": "c85e88c3-96f9-4ae2-be52-f554a0ff49f5",
   "metadata": {},
   "outputs": [],
   "source": [
    "x1 = [1, 10, 15.67, \"Delower\" , 'PIIT', True, 45, 10] #list of mixed data type - no, string, logical\n",
    "#duplicate 10 values\n",
    "# for string, the quotes should matching - \" \", ' '"
   ]
  },
  {
   "cell_type": "code",
   "execution_count": 7,
   "id": "13012217-7e81-44f8-9f5d-8d423a5cf929",
   "metadata": {},
   "outputs": [
    {
     "data": {
      "text/plain": [
       "list"
      ]
     },
     "execution_count": 7,
     "metadata": {},
     "output_type": "execute_result"
    }
   ],
   "source": [
    "type(x1)"
   ]
  },
  {
   "cell_type": "code",
   "execution_count": 10,
   "id": "2e3c8da9-d4d4-45d8-88ae-9c4150ffbd53",
   "metadata": {},
   "outputs": [
    {
     "name": "stdout",
     "output_type": "stream",
     "text": [
      "[1, 10, 15.67, 'Delower', 'PIIT', True, 45, 10]\n"
     ]
    }
   ],
   "source": [
    "print(x1)"
   ]
  },
  {
   "cell_type": "markdown",
   "id": "8ea8436b-73c6-4b3e-9dc7-627c35ac9f2b",
   "metadata": {},
   "source": [
    "### Length of the list"
   ]
  },
  {
   "cell_type": "code",
   "execution_count": 11,
   "id": "eb397151-ab66-4a7a-9887-226cc4ff8d42",
   "metadata": {},
   "outputs": [
    {
     "data": {
      "text/plain": [
       "8"
      ]
     },
     "execution_count": 11,
     "metadata": {},
     "output_type": "execute_result"
    }
   ],
   "source": [
    "len(x1)"
   ]
  },
  {
   "cell_type": "markdown",
   "id": "bdf46efe-0723-40f9-9bfb-3bb70d530b92",
   "metadata": {},
   "source": [
    "### Ordered\n",
    "- filter by position\n"
   ]
  },
  {
   "cell_type": "code",
   "execution_count": 13,
   "id": "16f7d0e5-d0e1-40a0-abb6-2663c6dd2a1d",
   "metadata": {},
   "outputs": [
    {
     "data": {
      "text/plain": [
       "1"
      ]
     },
     "execution_count": 13,
     "metadata": {},
     "output_type": "execute_result"
    }
   ],
   "source": [
    "x1[0]  #first position from o value between square bracket [ index ]"
   ]
  },
  {
   "cell_type": "code",
   "execution_count": 16,
   "id": "440dbb05-a8ec-448a-b0d4-38bffcd55ef2",
   "metadata": {},
   "outputs": [
    {
     "data": {
      "text/plain": [
       "'PIIT'"
      ]
     },
     "execution_count": 16,
     "metadata": {},
     "output_type": "execute_result"
    }
   ],
   "source": [
    "x1[4]"
   ]
  },
  {
   "cell_type": "markdown",
   "id": "b1d8a6d4-c980-42e4-8aa6-570f5bc3220d",
   "metadata": {},
   "source": [
    "### change values/ Mutable"
   ]
  },
  {
   "cell_type": "code",
   "execution_count": 20,
   "id": "f7598642-5239-4ca1-8066-6bb96dce2aec",
   "metadata": {},
   "outputs": [],
   "source": [
    "x1[4]= 'Barkat' #assign new value at position 4+1 in variable x1"
   ]
  },
  {
   "cell_type": "code",
   "execution_count": 21,
   "id": "45a191ab-9ffe-47ae-b954-b6214ef3797a",
   "metadata": {},
   "outputs": [
    {
     "name": "stdout",
     "output_type": "stream",
     "text": [
      "[1, 10, 15.67, 'Delower', 'Barkat', True, 45, 10]\n"
     ]
    }
   ],
   "source": [
    "print(x1)"
   ]
  },
  {
   "cell_type": "markdown",
   "id": "ef926d26-fc78-45c3-b556-0a5b79a9bbfd",
   "metadata": {},
   "source": [
    "## 3rd List"
   ]
  },
  {
   "cell_type": "code",
   "execution_count": 23,
   "id": "46815a91-b775-473e-8df6-a180f9505c5b",
   "metadata": {},
   "outputs": [
    {
     "data": {
      "text/plain": [
       "[1, 2, 3, 5]"
      ]
     },
     "execution_count": 23,
     "metadata": {},
     "output_type": "execute_result"
    }
   ],
   "source": [
    "x"
   ]
  },
  {
   "cell_type": "code",
   "execution_count": 24,
   "id": "6df19935-8281-411e-be20-647c678baa4e",
   "metadata": {},
   "outputs": [
    {
     "data": {
      "text/plain": [
       "[1, 10, 15.67, 'Delower', 'Barkat', True, 45, 10]"
      ]
     },
     "execution_count": 24,
     "metadata": {},
     "output_type": "execute_result"
    }
   ],
   "source": [
    "x1"
   ]
  },
  {
   "cell_type": "code",
   "execution_count": 25,
   "id": "acb7010b-c3e9-41c4-81ed-b8626072435d",
   "metadata": {},
   "outputs": [],
   "source": [
    "x2 = x + x1"
   ]
  },
  {
   "cell_type": "code",
   "execution_count": 26,
   "id": "68af5b4f-8bce-40bd-9050-cf8fc75f528a",
   "metadata": {},
   "outputs": [
    {
     "name": "stdout",
     "output_type": "stream",
     "text": [
      "[1, 2, 3, 5, 1, 10, 15.67, 'Delower', 'Barkat', True, 45, 10]\n"
     ]
    }
   ],
   "source": [
    "print(x2)"
   ]
  },
  {
   "cell_type": "markdown",
   "id": "87da9ac5-95bd-4fd5-8ee5-6610e7bf7e32",
   "metadata": {},
   "source": [
    "### Other functions list\n",
    "- https://docs.python.org/3/tutorial/datastructures.html"
   ]
  },
  {
   "cell_type": "code",
   "execution_count": 39,
   "id": "fb3427c1-b3b1-4714-85a5-d64c1eab3337",
   "metadata": {},
   "outputs": [],
   "source": [
    "x.append('Rashed')"
   ]
  },
  {
   "cell_type": "code",
   "execution_count": 40,
   "id": "deb6e965-20c0-4368-b69b-01e28a7f759c",
   "metadata": {},
   "outputs": [
    {
     "data": {
      "text/plain": [
       "[1, 2, 3, 5, 'Rashed', 'Rashed', 'Delower', 'Delower', 'Rashed']"
      ]
     },
     "execution_count": 40,
     "metadata": {},
     "output_type": "execute_result"
    }
   ],
   "source": [
    "x"
   ]
  },
  {
   "cell_type": "code",
   "execution_count": 41,
   "id": "7d0951b1-15b2-4674-b9e9-cd82d9803aa4",
   "metadata": {},
   "outputs": [],
   "source": [
    "x.append(100)"
   ]
  },
  {
   "cell_type": "code",
   "execution_count": 42,
   "id": "08363b6c-7b5b-4eac-bf5b-45d5e0224fbe",
   "metadata": {},
   "outputs": [
    {
     "data": {
      "text/plain": [
       "[1, 2, 3, 5, 'Rashed', 'Rashed', 'Delower', 'Delower', 'Rashed', 100]"
      ]
     },
     "execution_count": 42,
     "metadata": {},
     "output_type": "execute_result"
    }
   ],
   "source": [
    "x"
   ]
  },
  {
   "cell_type": "code",
   "execution_count": 43,
   "id": "79936f78-b41a-4ecd-aa34-ac5790fd11a1",
   "metadata": {},
   "outputs": [],
   "source": [
    "x.insert(1,'sayed')"
   ]
  },
  {
   "cell_type": "code",
   "execution_count": 44,
   "id": "7764534c-ce8e-40e8-9804-5227a64307a6",
   "metadata": {},
   "outputs": [
    {
     "data": {
      "text/plain": [
       "[1, 'sayed', 2, 3, 5, 'Rashed', 'Rashed', 'Delower', 'Delower', 'Rashed', 100]"
      ]
     },
     "execution_count": 44,
     "metadata": {},
     "output_type": "execute_result"
    }
   ],
   "source": [
    "x"
   ]
  },
  {
   "cell_type": "code",
   "execution_count": 45,
   "id": "d547c81d-23da-4f59-8c9a-57264079bb89",
   "metadata": {},
   "outputs": [],
   "source": [
    "x.reverse()"
   ]
  },
  {
   "cell_type": "code",
   "execution_count": 46,
   "id": "2e91cc3d-123f-4983-b195-816f91e90941",
   "metadata": {},
   "outputs": [
    {
     "data": {
      "text/plain": [
       "[100, 'Rashed', 'Delower', 'Delower', 'Rashed', 'Rashed', 5, 3, 2, 'sayed', 1]"
      ]
     },
     "execution_count": 46,
     "metadata": {},
     "output_type": "execute_result"
    }
   ],
   "source": [
    "x"
   ]
  },
  {
   "cell_type": "markdown",
   "id": "84084fb3-3292-4f7a-8ecc-9b7006974bad",
   "metadata": {},
   "source": [
    "x.count(3)"
   ]
  },
  {
   "cell_type": "code",
   "execution_count": 49,
   "id": "1e7dcca5-d83c-4004-a1ea-e2b567ee170d",
   "metadata": {},
   "outputs": [],
   "source": [
    "x.remove(2) # value -2 removed"
   ]
  },
  {
   "cell_type": "code",
   "execution_count": 50,
   "id": "edc2a021-93bc-42f6-863a-7168c6147e7c",
   "metadata": {},
   "outputs": [
    {
     "data": {
      "text/plain": [
       "[100, 'Rashed', 'Delower', 'Delower', 'Rashed', 'Rashed', 5, 3, 'sayed', 1]"
      ]
     },
     "execution_count": 50,
     "metadata": {},
     "output_type": "execute_result"
    }
   ],
   "source": [
    "x"
   ]
  },
  {
   "cell_type": "code",
   "execution_count": 51,
   "id": "1f5d62cd-c98b-4cda-b3d7-e3a40e0bb632",
   "metadata": {},
   "outputs": [],
   "source": [
    "x.remove (100) # remove value 100"
   ]
  },
  {
   "cell_type": "code",
   "execution_count": 52,
   "id": "1d85353a-2d24-468e-a335-e1a17f483bbe",
   "metadata": {},
   "outputs": [
    {
     "data": {
      "text/plain": [
       "['Rashed', 'Delower', 'Delower', 'Rashed', 'Rashed', 5, 3, 'sayed', 1]"
      ]
     },
     "execution_count": 52,
     "metadata": {},
     "output_type": "execute_result"
    }
   ],
   "source": [
    "x"
   ]
  },
  {
   "cell_type": "code",
   "execution_count": 55,
   "id": "2855712a-f3b7-477f-b31d-f67aeb7dd2fc",
   "metadata": {},
   "outputs": [
    {
     "data": {
      "text/plain": [
       "'Delower'"
      ]
     },
     "execution_count": 55,
     "metadata": {},
     "output_type": "execute_result"
    }
   ],
   "source": [
    "x.pop(0)"
   ]
  },
  {
   "cell_type": "code",
   "execution_count": 56,
   "id": "19d79f41-7bca-4f36-86b4-17d7fb03d6e1",
   "metadata": {},
   "outputs": [
    {
     "data": {
      "text/plain": [
       "['Delower', 'Rashed', 'Rashed', 5, 3, 'sayed']"
      ]
     },
     "execution_count": 56,
     "metadata": {},
     "output_type": "execute_result"
    }
   ],
   "source": [
    "x"
   ]
  },
  {
   "cell_type": "code",
   "execution_count": 57,
   "id": "e435de8f-fd8c-4ff6-b20b-7ea91a73672d",
   "metadata": {},
   "outputs": [
    {
     "data": {
      "text/plain": [
       "'Delower'"
      ]
     },
     "execution_count": 57,
     "metadata": {},
     "output_type": "execute_result"
    }
   ],
   "source": [
    "x.pop(0)"
   ]
  },
  {
   "cell_type": "code",
   "execution_count": 58,
   "id": "4d36054b-ac8d-44a5-b699-a9d478f0c736",
   "metadata": {},
   "outputs": [
    {
     "data": {
      "text/plain": [
       "['Rashed', 'Rashed', 5, 3, 'sayed']"
      ]
     },
     "execution_count": 58,
     "metadata": {},
     "output_type": "execute_result"
    }
   ],
   "source": [
    "x"
   ]
  },
  {
   "cell_type": "code",
   "execution_count": null,
   "id": "ee77b1b3-0c7e-4d6f-ae35-067e342c9730",
   "metadata": {},
   "outputs": [],
   "source": []
  }
 ],
 "metadata": {
  "kernelspec": {
   "display_name": "Python 3 (ipykernel)",
   "language": "python",
   "name": "python3"
  },
  "language_info": {
   "codemirror_mode": {
    "name": "ipython",
    "version": 3
   },
   "file_extension": ".py",
   "mimetype": "text/x-python",
   "name": "python",
   "nbconvert_exporter": "python",
   "pygments_lexer": "ipython3",
   "version": "3.13.5"
  }
 },
 "nbformat": 4,
 "nbformat_minor": 5
}
