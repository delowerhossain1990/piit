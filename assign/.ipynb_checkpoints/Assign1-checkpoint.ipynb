{
 "cells": [
  {
   "cell_type": "markdown",
   "id": "c8862d1e-7d04-4921-8252-d881fab5329c",
   "metadata": {},
   "source": [
    "# #)Write one example which you experienced or analyzed at these levels?\n",
    "# Project for Introduction to Natural Language Processing\n"
   ]
  },
  {
   "cell_type": "markdown",
   "id": "b9b715c3-d37b-42f4-8651-a9a9f1f457f3",
   "metadata": {},
   "source": [
    "## Descriptive Analysis"
   ]
  },
  {
   "cell_type": "markdown",
   "id": "ce21e903-51b9-412f-b822-d0f69f5e0ab0",
   "metadata": {},
   "source": [
    "     While studying MPS in Data Science I did a project for Introduction to Natural Language Processing titled “Sentiment Analysis and Match Prediction of India Vs Pakistan for T20 World Cup 2022: Pre-Match Review by India Today”. For this project I scraped the content from the news article “India Today” which consists of pre-match reviews and previous track records of two cricket giants India and Pakistan. My aim for the project was to apply natural language processing techniques to analyze and predict the sentiments from those pre-match review between these two teams which was based on their prior matches in the tournament as well as their past meetups."
   ]
  },
  {
   "cell_type": "markdown",
   "id": "0bb36c08-d058-4e51-85fe-b9850ca95a77",
   "metadata": {},
   "source": [
    "## Diagnostic Analysis"
   ]
  },
  {
   "cell_type": "markdown",
   "id": "083c4a46-d699-47b2-b8dd-7e7a1a58eb41",
   "metadata": {},
   "source": [
    "      For the project I used different methods to diagnose the dataset like data pre-processing, text summarization, sentiment analysis and other different techniques to figure out the author’s sentiment in the article. This analysis helped me to create a framework to work further in the project to analyze the correct sentiment and for successful prediction between these two cricket giants."
   ]
  },
  {
   "cell_type": "markdown",
   "id": "e9eb54d6-79a1-4f06-88a4-7ca9b55999b5",
   "metadata": {},
   "source": [
    "## Predictive Analysis"
   ]
  },
  {
   "cell_type": "markdown",
   "id": "903684d1-c5c3-4bf2-8800-e9e2c18e835c",
   "metadata": {},
   "source": [
    "    I used TextBlob and Vader method to analyses the sentiment and predict the winner of the game. The result for the analysis is as below:\n",
    "\n"
   ]
  },
  {
   "cell_type": "markdown",
   "id": "dbee20a0-7fa1-4a2b-905b-380783762a88",
   "metadata": {},
   "source": [
    "<img src=\"assign1.png\">"
   ]
  },
  {
   "cell_type": "markdown",
   "id": "0baf5229-84bd-4e30-91d7-aaa187c3ca90",
   "metadata": {},
   "source": [
    "     India did win the match and we can say that the project was able to calculate the sentiment and predict the match successfully."
   ]
  },
  {
   "cell_type": "markdown",
   "id": "d75e0ede-040a-4df9-9efb-2ba09b30373f",
   "metadata": {},
   "source": [
    "## Prescriptive Analysis"
   ]
  },
  {
   "cell_type": "markdown",
   "id": "6a6823d3-6299-413c-8b1e-ab412b187b70",
   "metadata": {},
   "source": [
    "     Though the project was successful in predicting the winner and calculation the sentiment for the game, the professor suggestion was that the dataset itself was not enough to make the prediction more accurate. The use of only one article for the analysis might have created a biasness from the author’s end. For more accurate and successful prediction I should have combined various other articles so that there is no biasness in the sentiment analysis and match prediction. "
   ]
  }
 ],
 "metadata": {
  "kernelspec": {
   "display_name": "Python 3 (ipykernel)",
   "language": "python",
   "name": "python3"
  },
  "language_info": {
   "codemirror_mode": {
    "name": "ipython",
    "version": 3
   },
   "file_extension": ".py",
   "mimetype": "text/x-python",
   "name": "python",
   "nbconvert_exporter": "python",
   "pygments_lexer": "ipython3",
   "version": "3.13.5"
  }
 },
 "nbformat": 4,
 "nbformat_minor": 5
}
