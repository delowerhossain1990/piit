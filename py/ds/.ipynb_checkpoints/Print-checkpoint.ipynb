{
 "cells": [
  {
   "cell_type": "code",
   "execution_count": 1,
   "id": "78e64e56-c215-4f98-8534-c99542fed25a",
   "metadata": {},
   "outputs": [
    {
     "name": "stdout",
     "output_type": "stream",
     "text": [
      "Hello PIIT Students\n"
     ]
    }
   ],
   "source": [
    "print(\"Hello PIIT Students\")"
   ]
  },
  {
   "cell_type": "code",
   "execution_count": 2,
   "id": "cfc51d1f-4ae7-45d7-b8bc-701455e61998",
   "metadata": {},
   "outputs": [
    {
     "name": "stdout",
     "output_type": "stream",
     "text": [
      "PIIT Delower Barkat 50\n"
     ]
    }
   ],
   "source": [
    "print('PIIT', 'Delower', 'Barkat', 50)"
   ]
  },
  {
   "cell_type": "code",
   "execution_count": 4,
   "id": "cf91797f-b23c-4b30-87f8-5cc9541e0039",
   "metadata": {},
   "outputs": [
    {
     "name": "stdout",
     "output_type": "stream",
     "text": [
      "PIIT,Delower,Barkat,50\n"
     ]
    }
   ],
   "source": [
    "print('PIIT', 'Delower', 'Barkat', 50, sep=',')"
   ]
  },
  {
   "cell_type": "code",
   "execution_count": 5,
   "id": "32c6c3f3-a858-471b-b539-a86d7488d984",
   "metadata": {},
   "outputs": [
    {
     "name": "stdout",
     "output_type": "stream",
     "text": [
      "PIIT<>Delower<>Barkat<>50\n"
     ]
    }
   ],
   "source": [
    "print('PIIT', 'Delower', 'Barkat', 50, sep='<>')"
   ]
  },
  {
   "cell_type": "code",
   "execution_count": 6,
   "id": "dd015227-8de0-436b-9462-08ae9a310033",
   "metadata": {},
   "outputs": [
    {
     "name": "stdout",
     "output_type": "stream",
     "text": [
      "Delower , Barkat:):):)"
     ]
    }
   ],
   "source": [
    "print('Delower', 'Barkat', sep=' , ', end=':):):)')"
   ]
  },
  {
   "cell_type": "code",
   "execution_count": 7,
   "id": "2ad283e3-02dd-470b-8291-426bad3f68a5",
   "metadata": {},
   "outputs": [
    {
     "name": "stdout",
     "output_type": "stream",
     "text": [
      "Hello Delower########"
     ]
    }
   ],
   "source": [
    "print('Hello', 'Delower', end='########')"
   ]
  },
  {
   "cell_type": "code",
   "execution_count": 8,
   "id": "3ebb5c8b-0715-42d6-a70b-11354eaf7329",
   "metadata": {},
   "outputs": [
    {
     "name": "stdout",
     "output_type": "stream",
     "text": [
      "Hello Delower\n",
      "PIIT Students\n"
     ]
    }
   ],
   "source": [
    "print('Hello', 'Delower', end='\\n') #works as enter, goes to next line\n",
    "print('PIIT Students')"
   ]
  },
  {
   "cell_type": "code",
   "execution_count": 9,
   "id": "4de974c6-7453-411b-8a60-4da3f0705a29",
   "metadata": {},
   "outputs": [
    {
     "name": "stdout",
     "output_type": "stream",
     "text": [
      "Delower - 89\n"
     ]
    }
   ],
   "source": [
    "name = \"Delower\"\n",
    "score = 89\n",
    "print(name, score, sep=' - ')"
   ]
  },
  {
   "cell_type": "code",
   "execution_count": 10,
   "id": "44be1488-f0cc-4309-803c-811ac816c516",
   "metadata": {},
   "outputs": [
    {
     "name": "stdout",
     "output_type": "stream",
     "text": [
      "Delower scored 89 marks.\n"
     ]
    }
   ],
   "source": [
    "print(name, 'scored', score, 'marks.')"
   ]
  },
  {
   "cell_type": "code",
   "execution_count": 11,
   "id": "af2c23fd-2710-4196-ac58-ec1080d672d7",
   "metadata": {},
   "outputs": [],
   "source": [
    "rank = 1"
   ]
  },
  {
   "cell_type": "code",
   "execution_count": 15,
   "id": "7ba1f282-d070-4aab-b7ac-a809342a4958",
   "metadata": {},
   "outputs": [
    {
     "name": "stdout",
     "output_type": "stream",
     "text": [
      "Delower scored 89 marks and his rank was 1.\n"
     ]
    }
   ],
   "source": [
    "print(f\"{name} scored {score} marks and his rank was {rank}.\")"
   ]
  },
  {
   "cell_type": "code",
   "execution_count": 16,
   "id": "fad82f12-0c19-49b4-87d8-cff2221ed1f7",
   "metadata": {},
   "outputs": [
    {
     "name": "stdout",
     "output_type": "stream",
     "text": [
      "name of student is Barkat and his/her age is 30\n"
     ]
    }
   ],
   "source": [
    "name, age = 'Barkat', 30\n",
    "print(f'name of student is {name} and his/her age is {age}')"
   ]
  },
  {
   "cell_type": "code",
   "execution_count": 21,
   "id": "be5dccfb-fba2-4790-9b7a-0ef878076369",
   "metadata": {},
   "outputs": [
    {
     "name": "stdout",
     "output_type": "stream",
     "text": [
      "Name: Suroor, Score: 85\n"
     ]
    }
   ],
   "source": [
    "print(\"Name: {}, Score: {}\".format(\"Suroor\", 85))"
   ]
  },
  {
   "cell_type": "code",
   "execution_count": 22,
   "id": "a6a81bbe-3de8-46e3-b351-9b7e2d2bc757",
   "metadata": {},
   "outputs": [
    {
     "name": "stdout",
     "output_type": "stream",
     "text": [
      "Name: Jugarta, Age: 29\n"
     ]
    }
   ],
   "source": [
    "print(\"Name: {}, Age: {}\". format(\"Jugarta\", 29))"
   ]
  },
  {
   "cell_type": "code",
   "execution_count": null,
   "id": "d266a2c3-916e-4104-9956-00fe79db0fd4",
   "metadata": {},
   "outputs": [],
   "source": []
  }
 ],
 "metadata": {
  "kernelspec": {
   "display_name": "Python 3 (ipykernel)",
   "language": "python",
   "name": "python3"
  },
  "language_info": {
   "codemirror_mode": {
    "name": "ipython",
    "version": 3
   },
   "file_extension": ".py",
   "mimetype": "text/x-python",
   "name": "python",
   "nbconvert_exporter": "python",
   "pygments_lexer": "ipython3",
   "version": "3.13.5"
  }
 },
 "nbformat": 4,
 "nbformat_minor": 5
}
